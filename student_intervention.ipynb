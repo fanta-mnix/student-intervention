{
 "cells": [
  {
   "cell_type": "markdown",
   "metadata": {
    "deletable": true,
    "editable": true
   },
   "source": [
    "# Machine Learning Engineer Nanodegree\n",
    "## Supervised Learning\n",
    "## Project: Building a Student Intervention System"
   ]
  },
  {
   "cell_type": "markdown",
   "metadata": {
    "deletable": true,
    "editable": true
   },
   "source": [
    "Welcome to the second project of the Machine Learning Engineer Nanodegree! In this notebook, some template code has already been provided for you, and it will be your job to implement the additional functionality necessary to successfully complete this project. Sections that begin with **'Implementation'** in the header indicate that the following block of code will require additional functionality which you must provide. Instructions will be provided for each section and the specifics of the implementation are marked in the code block with a `'TODO'` statement. Please be sure to read the instructions carefully!\n",
    "\n",
    "In addition to implementing code, there will be questions that you must answer which relate to the project and your implementation. Each section where you will answer a question is preceded by a **'Question X'** header. Carefully read each question and provide thorough answers in the following text boxes that begin with **'Answer:'**. Your project submission will be evaluated based on your answers to each of the questions and the implementation you provide.  \n",
    "\n",
    ">**Note:** Code and Markdown cells can be executed using the **Shift + Enter** keyboard shortcut. In addition, Markdown cells can be edited by typically double-clicking the cell to enter edit mode."
   ]
  },
  {
   "cell_type": "markdown",
   "metadata": {
    "deletable": true,
    "editable": true
   },
   "source": [
    "### Question 1 - Classification vs. Regression\n",
    "*Your goal for this project is to identify students who might need early intervention before they fail to graduate. Which type of supervised learning problem is this, classification or regression? Why?*"
   ]
  },
  {
   "cell_type": "markdown",
   "metadata": {
    "deletable": true,
    "editable": true
   },
   "source": [
    "**Answer: **\n",
    "Classification, as the output is discrete, finite and known beforehand on the training set."
   ]
  },
  {
   "cell_type": "markdown",
   "metadata": {
    "deletable": true,
    "editable": true
   },
   "source": [
    "## Exploring the Data\n",
    "Run the code cell below to load necessary Python libraries and load the student data. Note that the last column from this dataset, `'passed'`, will be our target label (whether the student graduated or didn't graduate). All other columns are features about each student."
   ]
  },
  {
   "cell_type": "code",
   "execution_count": null,
   "metadata": {
    "collapsed": false,
    "deletable": true,
    "editable": true
   },
   "outputs": [],
   "source": [
    "%matplotlib inline\n",
    "\n",
    "# Import libraries\n",
    "from __future__ import division\n",
    "\n",
    "import numpy as np\n",
    "import pandas as pd\n",
    "import matplotlib.pyplot as plt\n",
    "\n",
    "from time import time\n",
    "from sklearn.metrics import f1_score\n",
    "from IPython.display import display\n",
    "\n",
    "# Read student data\n",
    "student_data = pd.read_csv(\"student-data.csv\")\n",
    "display(student_data.head(5))\n",
    "\n",
    "print \"Student data read successfully!\""
   ]
  },
  {
   "cell_type": "markdown",
   "metadata": {
    "deletable": true,
    "editable": true
   },
   "source": [
    "### Implementation: Data Exploration\n",
    "Let's begin by investigating the dataset to determine how many students we have information on, and learn about the graduation rate among these students. In the code cell below, you will need to compute the following:\n",
    "- The total number of students, `n_students`.\n",
    "- The total number of features for each student, `n_features`.\n",
    "- The number of those students who passed, `n_passed`.\n",
    "- The number of those students who failed, `n_failed`.\n",
    "- The graduation rate of the class, `grad_rate`, in percent (%).\n"
   ]
  },
  {
   "cell_type": "code",
   "execution_count": null,
   "metadata": {
    "collapsed": false,
    "deletable": true,
    "editable": true
   },
   "outputs": [],
   "source": [
    "# Calculate number of students\n",
    "n_students = len(student_data)\n",
    "\n",
    "# Calculate number of features\n",
    "n_features = len(student_data.columns) - 1  # Exclude the target label\n",
    "\n",
    "# Calculate passing students\n",
    "n_passed = (student_data.passed == 'yes').sum()\n",
    "\n",
    "# Calculate failing students\n",
    "n_failed = (student_data.passed == 'no').sum()\n",
    "\n",
    "assert n_passed + n_failed == n_students, 'There are invalid labels on the dataset'\n",
    "\n",
    "# Calculate graduation rate\n",
    "grad_rate = n_passed / n_students * 100\n",
    "\n",
    "# Print the results\n",
    "print \"Total number of students: {}\".format(n_students)\n",
    "print \"Number of features: {}\".format(n_features)\n",
    "print \"Samples per feature ratio: {}\".format(n_students/n_features)\n",
    "print \"Number of students who passed: {}\".format(n_passed)\n",
    "print \"Number of students who failed: {}\".format(n_failed)\n",
    "print \"Graduation rate of the class: {:.2f}%\".format(grad_rate)\n",
    "\n",
    "print(\"\\nNumerical features:\")\n",
    "display(student_data.describe(include=[int, float]))"
   ]
  },
  {
   "cell_type": "code",
   "execution_count": null,
   "metadata": {
    "collapsed": false
   },
   "outputs": [],
   "source": [
    "plt.figure(figsize=(8,8))\n",
    "plt.hist(student_data.absences, bins=20)\n",
    "plt.axhline(y=student_data.absences.mean(), c='red')\n",
    "plt.grid()\n",
    "plt.show()"
   ]
  },
  {
   "cell_type": "markdown",
   "metadata": {},
   "source": [
    "Looking at the plot above, we can see that `absences` is very skewed. We can apply a log transformation to make it behave well when fed to the model."
   ]
  },
  {
   "cell_type": "code",
   "execution_count": null,
   "metadata": {
    "collapsed": false
   },
   "outputs": [],
   "source": [
    "plt.figure(figsize=(8,8))\n",
    "plt.hist(np.log(student_data.absences + 1))\n",
    "plt.grid()\n",
    "plt.show()"
   ]
  },
  {
   "cell_type": "markdown",
   "metadata": {
    "deletable": true,
    "editable": true
   },
   "source": [
    "## Preparing the Data\n",
    "In this section, we will prepare the data for modeling, training and testing.\n",
    "\n",
    "### Identify feature and target columns\n",
    "It is often the case that the data you obtain contains non-numeric features. This can be a problem, as most machine learning algorithms expect numeric data to perform computations with.\n",
    "\n",
    "Run the code cell below to separate the student data into feature and target columns to see if any features are non-numeric."
   ]
  },
  {
   "cell_type": "code",
   "execution_count": null,
   "metadata": {
    "collapsed": false,
    "deletable": true,
    "editable": true
   },
   "outputs": [],
   "source": [
    "# Extract feature columns\n",
    "feature_cols = list(student_data.columns[:-1])\n",
    "\n",
    "# Extract target column 'passed'\n",
    "target_col = student_data.columns[-1] \n",
    "\n",
    "# Show the list of columns\n",
    "print \"Feature columns:\\n{}\".format(feature_cols)\n",
    "print \"\\nTarget column: {}\".format(target_col)\n",
    "\n",
    "# Separate the data into feature data and target data (X_all and y_all, respectively)\n",
    "X_raw = student_data.loc[:, feature_cols]\n",
    "y_all = student_data.loc[:, target_col]\n",
    "\n",
    "# Show the feature information by printing the first five rows\n",
    "print \"\\nFeature values:\"\n",
    "display(X_raw.head())"
   ]
  },
  {
   "cell_type": "markdown",
   "metadata": {
    "deletable": true,
    "editable": true
   },
   "source": [
    "### Preprocess Feature Columns\n",
    "\n",
    "As you can see, there are several non-numeric columns that need to be converted! Many of them are simply `yes`/`no`, e.g. `internet`. These can be reasonably converted into `1`/`0` (binary) values.\n",
    "\n",
    "Other columns, like `Mjob` and `Fjob`, have more than two values, and are known as _categorical variables_. The recommended way to handle such a column is to create as many columns as possible values (e.g. `Fjob_teacher`, `Fjob_other`, `Fjob_services`, etc.), and assign a `1` to one of them and `0` to all others.\n",
    "\n",
    "These generated columns are sometimes called _dummy variables_, and we will use the [`pandas.get_dummies()`](http://pandas.pydata.org/pandas-docs/stable/generated/pandas.get_dummies.html?highlight=get_dummies#pandas.get_dummies) function to perform this transformation. Run the code cell below to perform the preprocessing routine discussed in this section.\n",
    "\n",
    "#### Extra: Feature Scaling\n",
    "Some classifiers are sensitive about the scale of the features, like k-NN, SVM and regularized linear classifiers. Scaling features to similar ranges also provides more numerical stability, which is good for convergence of optimization algorithms.\n",
    "Also, we have seen that `absences` is very skewed, so a log transform is applied to make it more normal."
   ]
  },
  {
   "cell_type": "code",
   "execution_count": null,
   "metadata": {
    "collapsed": false,
    "deletable": true,
    "editable": true
   },
   "outputs": [],
   "source": [
    "def preprocess_features(X, unskew_absences, scale_numeric):\n",
    "    ''' Preprocesses the student data and converts non-numeric binary variables into\n",
    "        binary (0/1) variables. Converts categorical variables into dummy variables. '''\n",
    "    \n",
    "    def is_binary(series):\n",
    "        return set(series) == {'yes', 'no'}\n",
    "    \n",
    "    def minmax_scale(values):\n",
    "        min_value = values.min()\n",
    "        values_range = values.max() - min_value\n",
    "        return (values - min_value)/values_range\n",
    "    \n",
    "    # Initialize new output DataFrame\n",
    "    output = pd.DataFrame(index = X.index)\n",
    "\n",
    "    # Investigate each feature column for the data\n",
    "    for col, col_data in X.iteritems():\n",
    "        if unskew_absences and col == 'absences':\n",
    "            col_data = col_data.apply(lambda x: np.log(x + 1))\n",
    "            \n",
    "        # If data type is non-numeric, replace all yes/no values with 1/0\n",
    "        if col_data.dtype == object:\n",
    "            if is_binary(col_data):\n",
    "                col_data = col_data.replace(['yes', 'no'], [1, 0])\n",
    "                assert col_data.dtype == int\n",
    "            else:  # If data type is categorical, convert to dummy variables\n",
    "                # Example: 'school' => 'school_GP' and 'school_MS'\n",
    "                col_data = pd.get_dummies(col_data, prefix = col)\n",
    "        elif col_data.dtype in [int, float] and scale_numeric:\n",
    "            print('Scaling feature ' + col)\n",
    "            col_data = minmax_scale(col_data)\n",
    "        \n",
    "        # Collect the revised columns\n",
    "        output = output.join(col_data)\n",
    "    \n",
    "    return output\n",
    "\n",
    "X_all = preprocess_features(X_raw, False, False)\n",
    "print \"Processed feature columns ({} total features):\\n{}\".format(len(X_all.columns), list(X_all.columns))\n",
    "display(X_all.head(1))"
   ]
  },
  {
   "cell_type": "code",
   "execution_count": null,
   "metadata": {
    "collapsed": false
   },
   "outputs": [],
   "source": [
    "def plot_tsne(X, y=None, perplexity=30.0):\n",
    "    from sklearn.manifold.t_sne import TSNE\n",
    "    import scipy.sparse as sp\n",
    "\n",
    "    print('Embedding data into 2D, takes some time...')\n",
    "    if sp.issparse(X):\n",
    "        X = X.todense()\n",
    "    Xt = TSNE(perplexity=perplexity).fit_transform(X, y)\n",
    "\n",
    "    if y is None:\n",
    "        plt.plot(list(Xt[:, 0]), list(Xt[:, 1]), marker='o', linestyle='')\n",
    "    else:\n",
    "        df = pd.DataFrame({'x': Xt[:, 0], 'y': Xt[:, 1], 'label': y})\n",
    "        groups = df.groupby('label')\n",
    "\n",
    "        fig, ax = plt.subplots()\n",
    "        for name, group in groups:\n",
    "            ax.plot(list(group.x), list(group.y), marker='o', linestyle='', label=name)\n",
    "\n",
    "        ax.legend()\n",
    "\n",
    "    plt.title('2D visualization of data')\n",
    "    plt.axis('equal')\n",
    "    plt.tight_layout()\n",
    "    plt.show()\n",
    "\n",
    "# Uncomment below to see 2D plot of data\n",
    "plot_tsne(X_all, y_all, 50)"
   ]
  },
  {
   "cell_type": "markdown",
   "metadata": {
    "deletable": true,
    "editable": true
   },
   "source": [
    "### Implementation: Training and Testing Data Split\n",
    "So far, we have converted all _categorical_ features into numeric values. For the next step, we split the data (both features and corresponding labels) into training and test sets. In the following code cell below, you will need to implement the following:\n",
    "- Randomly shuffle and split the data (`X_all`, `y_all`) into training and testing subsets.\n",
    "  - Use 300 training points (approximately 75%) and 95 testing points (approximately 25%).\n",
    "  - Set a `random_state` for the function(s) you use, if provided.\n",
    "  - Store the results in `X_train`, `X_test`, `y_train`, and `y_test`."
   ]
  },
  {
   "cell_type": "code",
   "execution_count": null,
   "metadata": {
    "collapsed": false,
    "deletable": true,
    "editable": true
   },
   "outputs": [],
   "source": [
    "from sklearn.cross_validation import train_test_split\n",
    "\n",
    "# Set the number of training points\n",
    "num_train = 300\n",
    "\n",
    "# Set the number of testing points\n",
    "num_test = len(X_all) - num_train\n",
    "\n",
    "# Shuffle and split the dataset into the number of training and testing points above\n",
    "X_train, X_test, y_train, y_test = train_test_split(X_all, y_all, test_size=num_test, random_state=42)\n",
    "\n",
    "# Show the results of the split\n",
    "print \"Training set has {} samples.\".format(X_train.shape[0])\n",
    "print \"Testing set has {} samples.\".format(X_test.shape[0])"
   ]
  },
  {
   "cell_type": "markdown",
   "metadata": {
    "deletable": true,
    "editable": true
   },
   "source": [
    "## Training and Evaluating Models\n",
    "In this section, you will choose 3 supervised learning models that are appropriate for this problem and available in `scikit-learn`. You will first discuss the reasoning behind choosing these three models by considering what you know about the data and each model's strengths and weaknesses. You will then fit the model to varying sizes of training data (100 data points, 200 data points, and 300 data points) and measure the F<sub>1</sub> score. You will need to produce three tables (one for each model) that shows the training set size, training time, prediction time, F<sub>1</sub> score on the training set, and F<sub>1</sub> score on the testing set.\n",
    "\n",
    "**The following supervised learning models are currently available in** [`scikit-learn`](http://scikit-learn.org/stable/supervised_learning.html) **that you may choose from:**\n",
    "- Gaussian Naive Bayes (GaussianNB)\n",
    "- Decision Trees\n",
    "- Ensemble Methods (Bagging, AdaBoost, Random Forest, Gradient Boosting)\n",
    "- K-Nearest Neighbors (KNeighbors)\n",
    "- Stochastic Gradient Descent (SGDC)\n",
    "- Support Vector Machines (SVM)\n",
    "- Logistic Regression"
   ]
  },
  {
   "cell_type": "markdown",
   "metadata": {
    "deletable": true,
    "editable": true
   },
   "source": [
    "### Question 2 - Model Application\n",
    "*List three supervised learning models that are appropriate for this problem. For each model chosen*\n",
    "- Describe one real-world application in industry where the model can be applied. *(You may need to do a small bit of research for this — give references!)* \n",
    "- What are the strengths of the model; when does it perform well? \n",
    "- What are the weaknesses of the model; when does it perform poorly?\n",
    "- What makes this model a good candidate for the problem, given what you know about the data?"
   ]
  },
  {
   "cell_type": "markdown",
   "metadata": {
    "deletable": true,
    "editable": true
   },
   "source": [
    "**Answer: **\n",
    "\n",
    "The idea in choosing the model is to start with simple ones that might perform somewhat well on the data and move to more complicated ones (Occam's Razor). Also, diversity is important to make sure we are looking at the problem from different angles.\n",
    "\n",
    "#### K-Nearest Neighbors\n",
    "K-Nearest neighbors have been used in [behavioral targeting](https://en.wikipedia.org/wiki/Nearest_neighbor_search#Applications) to predict, for example, which ad is most likely to be clicked by a customer, based on previous activity of himself and others.\n",
    "Being non-parametric, K-Nearest Neighbors can approximate arbitrarily complex functions (given enough data). It can deal with multiclass problems without needing any adjustment and can incorporate special domain knowledge by using a distance function tailored to the problem.\n",
    "K-NN is a lazy learner, which means that almost no effort is done until we are prompted to estimate something. This is advantageous in settings where training the model is more common than querying it, but disadvantageous in the opposite scenario. Also, K-NN does not work well in high-dimensional problems due to the Curse of Dimensionality, although we can mitigate this using by dimensionality reduction techniques such as PCA.\n",
    "\n",
    "I selected K-NN because the low-dimension embedding of the data suggested that there were some clusters for students that did not pass. (And also because I was curious about the structure of the data)\n",
    "\n",
    "\n",
    "#### Decision Trees\n",
    "Decision Trees are useful for [credit-scoring](http://www.knowledgetaiwan.org/ojs/index.php/ijbi/article/download/77/35), among [other applications](http://www.cbcb.umd.edu/~salzberg/docs/murthy_thesis/survey/node32.html), and are known for the ease of training on large datasets, capability of handling both numerical and categorical data, extensibility for multiclass problems, dealing with nonlinear decision boundaries and interpretability.\n",
    "The problem with decision trees is that they too much attention to the data and tend to produce very complicated decision boundaries (overfitting), specially when classes are not axis-aligned. Prunning may be employed, but it may become difficult for the prunned tree to explain the training data effectively.\n",
    "Decision Trees are a good starting point for the problem as they offer some insight into the data, are quick to train and, after hyper-parameter selection, can become good baseline models.\n",
    "\n",
    "This model is a good candidate for the problem because we don't have to worry about having both numeric and categorical features or even feature scaling and both training and predicting should be fast. Also, we can inspect the model to see if it matches our understanding of the problem.\n",
    "\n",
    "\n",
    "#### Random Forest\n",
    "Random Forest have received a lot of attention in the field of [computer vision](http://pages.iai.uni-bonn.de/frintrop_simone//BVW13/BVW-gall.pdf) to predict, for example, handwritten digits or facial features in a face photograph.\n",
    "Random Forests are very versatile, performing well on a variety of problems and offer a good starting point when not much is known about the data. They are able achieve balance between bias and variance by using bagging and attribute bagging for each tree that is built (which reduces correlation between trees).\n",
    "Another key aspect of Random Forests is their capability of dealing with unimportant features, which turns to be a problem with Decision Trees (see above). Some even use them solely for [feature selection](http://scikit-learn.org/stable/modules/feature_selection.html#feature-selection-as-part-of-a-pipeline)!\n",
    "Unfortunately, they are not as interpretable as decision trees: it is possible to see what features the model consider important, but that is all. Also, Random Forest will struggle with classes that are not axis-aligned (as Decision Trees do) or when the data is sparse (because of attribute bagging).\n",
    "\n",
    "This model is a good candidate for the problem reasons similar to those of Decision Trees (interpretability to a lesser degree) with the advantages of increased predictive capacity and built-in feature selection mechanism."
   ]
  },
  {
   "cell_type": "markdown",
   "metadata": {
    "deletable": true,
    "editable": true
   },
   "source": [
    "### Setup\n",
    "Run the code cell below to initialize three helper functions which you can use for training and testing the three supervised learning models you've chosen above. The functions are as follows:\n",
    "- `train_classifier` - takes as input a classifier and training data and fits the classifier to the data.\n",
    "- `predict_labels` - takes as input a fit classifier, features, and a target labeling and makes predictions using the F<sub>1</sub> score.\n",
    "- `train_predict` - takes as input a classifier, and the training and testing data, and performs `train_clasifier` and `predict_labels`.\n",
    " - This function will report the F<sub>1</sub> score for both the training and testing data separately.\n",
    "\n",
    "### To the reviewer - Please read\n",
    "The `f1_score` function below was using `yes` as the positive label, which, to my understanding, does not match the goal of the assignment. On the **Project Overview** it was stated that\n",
    "> Graduation rates are often the criteria of choice, and educators seek new ways to predict the success and failure of students early enough to stage effective interventions.\n",
    "\n",
    "While the majority of students pass, we have to focus our attention on those who are likely to fail. Using `yes` as the positive label, a baseline model that always predicts `yes` will get a F<sub>1</sub> score of 0.7975 on the test set but won't provide any real value to our business.\n",
    "\n",
    "To match the problem, an adjustment was made to `pos_label`, changing its value from `yes` to `no`."
   ]
  },
  {
   "cell_type": "code",
   "execution_count": null,
   "metadata": {
    "collapsed": false,
    "deletable": true,
    "editable": true
   },
   "outputs": [],
   "source": [
    "def train_classifier(clf, X_train, y_train):\n",
    "    ''' Fits a classifier to the training data. '''\n",
    "    \n",
    "    # Start the clock, train the classifier, then stop the clock\n",
    "    start = time()\n",
    "    clf.fit(X_train, y_train)\n",
    "    end = time()\n",
    "    \n",
    "    # Print the results\n",
    "    print \"Trained model in (seconds): {:.4f}\".format(end - start)\n",
    "\n",
    "    \n",
    "def predict_labels(clf, features, target, source):\n",
    "    ''' Makes predictions using a fit classifier based on F1 score. '''\n",
    "    \n",
    "    # Start the clock, make predictions, then stop the clock\n",
    "    start = time()\n",
    "    y_pred = clf.predict(features)\n",
    "    end = time()\n",
    "    \n",
    "    # Print and return results\n",
    "    print \"Made predictions for {} set in (seconds) {:.4f}\".format(source, end - start)\n",
    "    return f1_score(target.values, y_pred, pos_label='no')  # To reviewer: previously was YES. See notes above\n",
    "\n",
    "\n",
    "def train_predict(clf, X_train, y_train, X_test, y_test):\n",
    "    ''' Train and predict using a classifer based on F1 score. '''\n",
    "    \n",
    "    # Indicate the classifier and the training set size\n",
    "    print \"Training a {} using a training set size of {}. . .\".format(clf.__class__.__name__, len(X_train))\n",
    "    \n",
    "    # Train the classifier\n",
    "    train_classifier(clf, X_train, y_train)\n",
    "    \n",
    "    # Print the results of prediction for both training and testing\n",
    "    print \"F1 score for training set: {:.4f}\".format(predict_labels(clf, X_train, y_train, 'train'))\n",
    "    print \"F1 score for test set: {:.4f}\".format(predict_labels(clf, X_test, y_test, 'test'))"
   ]
  },
  {
   "cell_type": "markdown",
   "metadata": {
    "deletable": true,
    "editable": true
   },
   "source": [
    "### Implementation: Model Performance Metrics\n",
    "With the predefined functions above, you will now import the three supervised learning models of your choice and run the `train_predict` function for each one. Remember that you will need to train and predict on each classifier for three different training set sizes: 100, 200, and 300. Hence, you should expect to have 9 different outputs below — 3 for each model using the varying training set sizes. In the following code cell, you will need to implement the following:\n",
    "- Import the three supervised learning models you've discussed in the previous section.\n",
    "- Initialize the three models and store them in `clf_A`, `clf_B`, and `clf_C`.\n",
    " - Use a `random_state` for each model you use, if provided.\n",
    " - **Note:** Use the default settings for each model — you will tune one specific model in a later section.\n",
    "- Create the different training set sizes to be used to train each model.\n",
    " - *Do not reshuffle and resplit the data! The new training points should be drawn from `X_train` and `y_train`.*\n",
    "- Fit each model with each training set size and make predictions on the test set (9 in total).  \n",
    "**Note:** Three tables are provided after the following code cell which can be used to store your results."
   ]
  },
  {
   "cell_type": "code",
   "execution_count": null,
   "metadata": {
    "collapsed": false,
    "deletable": true,
    "editable": true
   },
   "outputs": [],
   "source": [
    "# Import the three supervised learning models from sklearn\n",
    "from sklearn.tree import DecisionTreeClassifier\n",
    "from sklearn.ensemble import RandomForestClassifier\n",
    "from sklearn.neighbors import KNeighborsClassifier\n",
    "from sklearn.dummy import DummyClassifier\n",
    "\n",
    "# Initialize the three models\n",
    "clf_A = KNeighborsClassifier()\n",
    "clf_B = DecisionTreeClassifier(random_state=777)\n",
    "clf_C = RandomForestClassifier(random_state=777)\n",
    "clf_D = DummyClassifier(strategy='constant', constant='no')\n",
    "\n",
    "\n",
    "# TODO: Set up the training set sizes\n",
    "X_train_100 = X_train[:100]\n",
    "y_train_100 = y_train[:100]\n",
    "\n",
    "X_train_200 = X_train[:200]\n",
    "y_train_200 = y_train[:200]\n",
    "\n",
    "X_train_300 = X_train[:300]\n",
    "y_train_300 = y_train[:300]\n",
    "\n",
    "X_train_sized = [X_train_100, X_train_200, X_train_300]\n",
    "y_train_sized = [y_train_100, y_train_200, y_train_300]\n",
    "\n",
    "# Execute the 'train_predict' function for each classifier and each training set size\n",
    "for clf in [clf_A, clf_B, clf_C, clf_D]:\n",
    "    for X_train_n, y_train_n in zip(X_train_sized, y_train_sized):\n",
    "        train_predict(clf, X_train_n, y_train_n, X_test, y_test)\n",
    "        print('\\n')\n",
    "    print('====')"
   ]
  },
  {
   "cell_type": "markdown",
   "metadata": {
    "deletable": true,
    "editable": true
   },
   "source": [
    "### Tabular Results\n",
    "Edit the cell below to see how a table can be designed in [Markdown](https://github.com/adam-p/markdown-here/wiki/Markdown-Cheatsheet#tables). You can record your results from above in the tables provided."
   ]
  },
  {
   "cell_type": "markdown",
   "metadata": {
    "deletable": true,
    "editable": true
   },
   "source": [
    "** Classifer 1 - K-Nearest Neighbors **  \n",
    "\n",
    "| Training Set Size | Training Time | Prediction Time (test) | F1 Score (train) | F1 Score (test) |\n",
    "| :---------------: | :---------------------: | :--------------------: | :--------------: | :-------------: |\n",
    "| 100               | 0.0011                  | 0.0018                 | 0.6061           | 0.2692          |\n",
    "| 200               |        0.0014           | 0.0044                 | 0.6400           | 0.2979          |\n",
    "| 300               | 0.0016                  | 0.0029                 | 0.6581           |    0.3673       |\n",
    "\n",
    "** Classifer 2 - Decision Tree Classifier**  \n",
    "\n",
    "| Training Set Size | Training Time | Prediction Time (test) | F1 Score (train) | F1 Score (test) |\n",
    "| :---------------: | :---------------------: | :--------------------: | :--------------: | :-------------: |\n",
    "| 100               | 0.0013                  | 0.0004                 | 1.0000           | 0.4054          |\n",
    "| 200               |     0.0021              | 0.0005                 | 1.0000           | 0.4138          |\n",
    "| 300               | 0.0027                  | 0.0006                 | 1.0000           |     0.3385      |\n",
    "\n",
    "** Classifer 3 - Random Forest Classifier **  \n",
    "\n",
    "| Training Set Size | Training Time | Prediction Time (test) | F1 Score (train) | F1 Score (test) |\n",
    "| :---------------: | :---------------------: | :--------------------: | :--------------: | :-------------: |\n",
    "| 100               | 0.0287                  | 0.0015                 | 0.9859           | 0.3774          |\n",
    "| 200               | 0.0301                  | 0.0017                 | 0.9756           | 0.3600          |\n",
    "| 300               | 0.0306                  | 0.0020                 | 0.9895           | 0.5902          |\n",
    "\n",
    "** Naive Predictor **\n",
    "\n",
    "| Training Set Size | Training Time | Prediction Time (test) | F1 Score (train) | F1 Score (test) |\n",
    "| :---------------: | :---------------------: | :--------------------: | :--------------: | :-------------: |\n",
    "| 300               | -                  | -                 | 0.4810           | 0.5385          |"
   ]
  },
  {
   "cell_type": "markdown",
   "metadata": {
    "deletable": true,
    "editable": true
   },
   "source": [
    "## Choosing the Best Model\n",
    "In this final section, you will choose from the three supervised learning models the *best* model to use on the student data. You will then perform a grid search optimization for the model over the entire training set (`X_train` and `y_train`) by tuning at least one parameter to improve upon the untuned model's F<sub>1</sub> score. "
   ]
  },
  {
   "cell_type": "markdown",
   "metadata": {
    "deletable": true,
    "editable": true
   },
   "source": [
    "### Question 3 - Choosing the Best Model\n",
    "*Based on the experiments you performed earlier, in one to two paragraphs, explain to the board of supervisors what single model you chose as the best model. Which model is generally the most appropriate based on the available data, limited resources, cost, and performance?*"
   ]
  },
  {
   "cell_type": "markdown",
   "metadata": {
    "deletable": true,
    "editable": true
   },
   "source": [
    "**Answer: **\n",
    "Before we dive into the analysis, consider this: a model will be trained once in a while, but, after trained, will be used to make thousands (even more) predictions. Prediction time dominates the cost and will be the only one considered when choosing the model.\n",
    "\n",
    "To estimate costs, we first need to estimate usage. According to [this](http://www.irrodl.org/index.php/irrodl/article/view/1651/2774), the average MOOC enroll around **43,000** students and has a typical length is 8-10 weeks. If we run our predictions on every enrolled student on a weekly basis, we will make a total of **344,000 predictions** for that course.\n",
    "\n",
    "The first one to be ruled out is K-NN:\n",
    "- Prediction time is the biggest of chosen models\n",
    "- Score is much lower than Random Forest on both training and testing sets. The important metric is, of course, the testing score, but training score gives us an upper boundary to the testing score we can achieve.\n",
    "\n",
    "To decide between Decision Trees and Random Forest, we should first analyze the costs.\n",
    "- Decision Tree is faster than Random Forest (3-4x times faster when predicting). it would take about **0.7 seconds** (344000 * 0.0006 / 300) to make all predictions. Translating that time to costs, on a `c4.xlarge` EC2 instance, the cost of running this predictions would be only a fraction of a cent. So, both the costs of Decision Trees and Random Forests are negligible\n",
    "- When compared to Random Forest, the F<sub>1</sub> score decreased by 0.25165 units. which is a lot! This means failing to take action on students that will likely abandon the course or unnecessarily tending to \"good\" students.\n",
    "\n",
    "This leaves us with `Random Forest`, our winner. We make a conscious choice of trading predicting speed and interpretability of decision trees to achieve better predictions with RF. Also, the only one that fared better than the Naive Predictor."
   ]
  },
  {
   "cell_type": "markdown",
   "metadata": {
    "deletable": true,
    "editable": true
   },
   "source": [
    "### Question 4 - Model in Layman's Terms\n",
    "*In one to two paragraphs, explain to the board of directors in layman's terms how the final model chosen is supposed to work. Be sure that you are describing the major qualities of the model, such as how the model is trained and how the model makes a prediction. Avoid using advanced mathematical or technical jargon, such as describing equations or discussing the algorithm implementation.*"
   ]
  },
  {
   "cell_type": "markdown",
   "metadata": {
    "deletable": true,
    "editable": true
   },
   "source": [
    "**Answer: **"
   ]
  },
  {
   "cell_type": "markdown",
   "metadata": {
    "deletable": true,
    "editable": true
   },
   "source": [
    "### Implementation: Model Tuning\n",
    "Fine tune the chosen model. Use grid search (`GridSearchCV`) with at least one important parameter tuned with at least 3 different values. You will need to use the entire training set for this. In the code cell below, you will need to implement the following:\n",
    "- Import [`sklearn.grid_search.GridSearchCV`](http://scikit-learn.org/0.17/modules/generated/sklearn.grid_search.GridSearchCV.html) and [`sklearn.metrics.make_scorer`](http://scikit-learn.org/stable/modules/generated/sklearn.metrics.make_scorer.html).\n",
    "- Create a dictionary of parameters you wish to tune for the chosen model.\n",
    " - Example: `parameters = {'parameter' : [list of values]}`.\n",
    "- Initialize the classifier you've chosen and store it in `clf`.\n",
    "- Create the F<sub>1</sub> scoring function using `make_scorer` and store it in `f1_scorer`.\n",
    " - Set the `pos_label` parameter to the correct value!\n",
    "- Perform grid search on the classifier `clf` using `f1_scorer` as the scoring method, and store it in `grid_obj`.\n",
    "- Fit the grid search object to the training data (`X_train`, `y_train`), and store it in `grid_obj`."
   ]
  },
  {
   "cell_type": "code",
   "execution_count": null,
   "metadata": {
    "collapsed": false,
    "deletable": true,
    "editable": true
   },
   "outputs": [],
   "source": [
    "# TODO: Import 'GridSearchCV' and 'make_scorer'\n",
    "\n",
    "# TODO: Create the parameters list you wish to tune\n",
    "parameters = None\n",
    "\n",
    "# TODO: Initialize the classifier\n",
    "clf = None\n",
    "\n",
    "# TODO: Make an f1 scoring function using 'make_scorer' \n",
    "f1_scorer = None\n",
    "\n",
    "# TODO: Perform grid search on the classifier using the f1_scorer as the scoring method\n",
    "grid_obj = None\n",
    "\n",
    "# TODO: Fit the grid search object to the training data and find the optimal parameters\n",
    "grid_obj = None\n",
    "\n",
    "# Get the estimator\n",
    "clf = grid_obj.best_estimator_\n",
    "\n",
    "# Report the final F1 score for training and testing after parameter tuning\n",
    "print \"Tuned model has a training F1 score of {:.4f}.\".format(predict_labels(clf, X_train, y_train))\n",
    "print \"Tuned model has a testing F1 score of {:.4f}.\".format(predict_labels(clf, X_test, y_test))"
   ]
  },
  {
   "cell_type": "markdown",
   "metadata": {
    "deletable": true,
    "editable": true
   },
   "source": [
    "### Question 5 - Final F<sub>1</sub> Score\n",
    "*What is the final model's F<sub>1</sub> score for training and testing? How does that score compare to the untuned model?*"
   ]
  },
  {
   "cell_type": "markdown",
   "metadata": {
    "deletable": true,
    "editable": true
   },
   "source": [
    "**Answer: **"
   ]
  },
  {
   "cell_type": "markdown",
   "metadata": {
    "deletable": true,
    "editable": true
   },
   "source": [
    "> **Note**: Once you have completed all of the code implementations and successfully answered each question above, you may finalize your work by exporting the iPython Notebook as an HTML document. You can do this by using the menu above and navigating to  \n",
    "**File -> Download as -> HTML (.html)**. Include the finished document along with this notebook as your submission."
   ]
  }
 ],
 "metadata": {
  "kernelspec": {
   "display_name": "Python 2",
   "language": "python",
   "name": "python2"
  },
  "language_info": {
   "codemirror_mode": {
    "name": "ipython",
    "version": 2
   },
   "file_extension": ".py",
   "mimetype": "text/x-python",
   "name": "python",
   "nbconvert_exporter": "python",
   "pygments_lexer": "ipython2",
   "version": "2.7.12"
  }
 },
 "nbformat": 4,
 "nbformat_minor": 0
}
